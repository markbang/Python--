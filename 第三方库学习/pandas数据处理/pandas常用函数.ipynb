{
 "cells": [
  {
   "cell_type": "code",
   "execution_count": 1,
   "metadata": {
    "collapsed": true,
    "ExecuteTime": {
     "end_time": "2023-05-10T02:19:18.220495400Z",
     "start_time": "2023-05-10T02:19:17.450876700Z"
    }
   },
   "outputs": [],
   "source": [
    "import numpy as np\n",
    "import pandas as pd"
   ]
  },
  {
   "cell_type": "markdown",
   "source": [
    "# 1. 读取文件"
   ],
   "metadata": {
    "collapsed": false
   }
  },
  {
   "cell_type": "code",
   "execution_count": null,
   "outputs": [],
   "source": [
    "df1 = pd.DataFrame(pd.read_csv('name.csv',header=1))\n",
    "df2 = pd.DataFrame(pd.read_excel('name.xlsx'))"
   ],
   "metadata": {
    "collapsed": false
   }
  },
  {
   "cell_type": "markdown",
   "source": [
    "# 2. 创建数据表"
   ],
   "metadata": {
    "collapsed": false
   }
  },
  {
   "cell_type": "code",
   "execution_count": 4,
   "outputs": [
    {
     "name": "stdout",
     "output_type": "stream",
     "text": [
      "     id       date         city category  age   price\n",
      "0  1001 2013-01-02     Beijing     100-A   23  1200.0\n",
      "1  1002 2013-01-03           SH    100-B   44     NaN\n",
      "2  1003 2013-01-04   guangzhou     110-A   54  2133.0\n",
      "3  1004 2013-01-05     Shenzhen    110-C   32  5433.0\n",
      "4  1005 2013-01-06     shanghai    210-A   34     NaN\n",
      "5  1006 2013-01-07     BEIJING     130-F   32  4432.0\n"
     ]
    }
   ],
   "source": [
    "df = pd.DataFrame({\"id\":[1001,1002,1003,1004,1005,1006],\n",
    " \"date\":pd.date_range('20130102', periods=6),# periods=6表示生成6行,date_range('str')函数用于生成连续的日期序列\n",
    "  \"city\":['Beijing ', 'SH', ' guangzhou ', 'Shenzhen', 'shanghai', 'BEIJING '],\n",
    " \"age\":[23,44,54,32,34,32],\n",
    " \"category\":['100-A','100-B','110-A','110-C','210-A','130-F'],\n",
    "  \"price\":[1200,np.nan,2133,5433,np.nan,4432]},# np.nan表示空值\n",
    "  columns =['id','date','city','category','age','price'])# columns用于指定生成的数据表的列名\n",
    "print(df)"
   ],
   "metadata": {
    "collapsed": false,
    "ExecuteTime": {
     "end_time": "2023-05-09T15:01:12.780959600Z",
     "start_time": "2023-05-09T15:01:12.761445900Z"
    }
   }
  },
  {
   "cell_type": "markdown",
   "source": [
    "# 3. 数据表信息查看"
   ],
   "metadata": {
    "collapsed": false
   }
  },
  {
   "cell_type": "code",
   "execution_count": 10,
   "outputs": [
    {
     "name": "stdout",
     "output_type": "stream",
     "text": [
      "<bound method DataFrame.info of      id       date         city category  age   price\n",
      "0  1001 2013-01-02     Beijing     100-A   23  1200.0\n",
      "1  1002 2013-01-03           SH    100-B   44     NaN\n",
      "2  1003 2013-01-04   guangzhou     110-A   54  2133.0\n",
      "3  1004 2013-01-05     Shenzhen    110-C   32  5433.0\n",
      "4  1005 2013-01-06     shanghai    210-A   34     NaN\n",
      "5  1006 2013-01-07     BEIJING     130-F   32  4432.0>\n",
      "(6, 6)\n",
      "id                   int64\n",
      "date        datetime64[ns]\n",
      "city                object\n",
      "category            object\n",
      "age                  int64\n",
      "price              float64\n",
      "dtype: object\n",
      "RangeIndex(start=0, stop=6, step=1)\n",
      "Index(['id', 'date', 'city', 'category', 'age', 'price'], dtype='object')\n",
      "[[1001 Timestamp('2013-01-02 00:00:00') 'Beijing ' '100-A' 23 1200.0]\n",
      " [1002 Timestamp('2013-01-03 00:00:00') 'SH' '100-B' 44 nan]\n",
      " [1003 Timestamp('2013-01-04 00:00:00') ' guangzhou ' '110-A' 54 2133.0]\n",
      " [1004 Timestamp('2013-01-05 00:00:00') 'Shenzhen' '110-C' 32 5433.0]\n",
      " [1005 Timestamp('2013-01-06 00:00:00') 'shanghai' '210-A' 34 nan]\n",
      " [1006 Timestamp('2013-01-07 00:00:00') 'BEIJING ' '130-F' 32 4432.0]]\n",
      "int64\n"
     ]
    }
   ],
   "source": [
    "print(df.info)# info()函数用于查看数据表的基本信息\n",
    "print(df.shape)# shape函数用于查看数据表的形状\n",
    "print(df.dtypes)# dtypes函数用于查看数据表的数据类型\n",
    "print(df.index)# index函数用于查看数据表的索引\n",
    "print(df.columns)# columns函数用于查看数据表的列名\n",
    "print(df.values)# values函数用于查看数据表的值\n",
    "print(df['id'].dtype)# dtype函数用于查看某一列的数据类型"
   ],
   "metadata": {
    "collapsed": false,
    "ExecuteTime": {
     "end_time": "2023-05-09T13:15:12.053799100Z",
     "start_time": "2023-05-09T13:15:12.022140300Z"
    }
   }
  },
  {
   "cell_type": "code",
   "execution_count": 5,
   "outputs": [
    {
     "name": "stdout",
     "output_type": "stream",
     "text": [
      "     id       date         city category  age   price\n",
      "0  1001 2013-01-02     Beijing     100-A   23  1200.0\n",
      "1  1002 2013-01-03           SH    100-B   44     NaN\n",
      "2  1003 2013-01-04   guangzhou     110-A   54  2133.0\n",
      "3  1004 2013-01-05     Shenzhen    110-C   32  5433.0\n",
      "4  1005 2013-01-06     shanghai    210-A   34     NaN\n",
      "     id       date         city category  age   price\n",
      "1  1002 2013-01-03           SH    100-B   44     NaN\n",
      "2  1003 2013-01-04   guangzhou     110-A   54  2133.0\n",
      "3  1004 2013-01-05     Shenzhen    110-C   32  5433.0\n",
      "4  1005 2013-01-06     shanghai    210-A   34     NaN\n",
      "5  1006 2013-01-07     BEIJING     130-F   32  4432.0\n",
      "['Beijing ' 'SH' ' guangzhou ' 'Shenzhen' 'shanghai' 'BEIJING ']\n",
      "6\n",
      "4\n",
      "      id   date   city  category    age  price\n",
      "0  False  False  False     False  False  False\n",
      "1  False  False  False     False  False   True\n",
      "2  False  False  False     False  False  False\n",
      "3  False  False  False     False  False  False\n",
      "4  False  False  False     False  False   True\n",
      "5  False  False  False     False  False  False\n",
      "0    False\n",
      "1     True\n",
      "2    False\n",
      "3    False\n",
      "4     True\n",
      "5    False\n",
      "Name: price, dtype: bool\n"
     ]
    }
   ],
   "source": [
    "print(df.head())# head()函数用于查看数据表的前n行数据，默认为5\n",
    "print(df.tail())# tail()函数用于查看数据表的后n行数据，默认为5\n",
    "print(df['city'].unique())# unique()函数用于查看某一列的唯一值\n",
    "print(df['city'].nunique())# nunique()函数用于查看某一列的唯一值的个数\n",
    "print(df['price'].count())# count()函数用于查看某一列的非空值个数\n",
    "print(df.isnull())# isnull()函数用于查看数据表的空值情况\n",
    "print(df['price'].isnull())# isnull()函数用于查看某一列的空值情况"
   ],
   "metadata": {
    "collapsed": false,
    "ExecuteTime": {
     "end_time": "2023-05-09T15:01:17.075416Z",
     "start_time": "2023-05-09T15:01:17.043279900Z"
    }
   }
  },
  {
   "cell_type": "markdown",
   "source": [
    "# 4. 数据表清洗"
   ],
   "metadata": {
    "collapsed": false
   }
  },
  {
   "cell_type": "code",
   "execution_count": 6,
   "outputs": [
    {
     "data": {
      "text/plain": "     id       date         city category-size  age   price\n0  1001 2013-01-02     Beijing          100-A   23  1200.0\n1  1002 2013-01-03           SH         100-B   44     NaN\n2  1003 2013-01-04   guangzhou          110-A   54  2133.0\n3  1004 2013-01-05     Shenzhen         110-C   32  5433.0\n4  1005 2013-01-06     shanghai         210-A   34     NaN\n5  1006 2013-01-07     BEIJING          130-F   32  4432.0",
      "text/html": "<div>\n<style scoped>\n    .dataframe tbody tr th:only-of-type {\n        vertical-align: middle;\n    }\n\n    .dataframe tbody tr th {\n        vertical-align: top;\n    }\n\n    .dataframe thead th {\n        text-align: right;\n    }\n</style>\n<table border=\"1\" class=\"dataframe\">\n  <thead>\n    <tr style=\"text-align: right;\">\n      <th></th>\n      <th>id</th>\n      <th>date</th>\n      <th>city</th>\n      <th>category-size</th>\n      <th>age</th>\n      <th>price</th>\n    </tr>\n  </thead>\n  <tbody>\n    <tr>\n      <th>0</th>\n      <td>1001</td>\n      <td>2013-01-02</td>\n      <td>Beijing</td>\n      <td>100-A</td>\n      <td>23</td>\n      <td>1200.0</td>\n    </tr>\n    <tr>\n      <th>1</th>\n      <td>1002</td>\n      <td>2013-01-03</td>\n      <td>SH</td>\n      <td>100-B</td>\n      <td>44</td>\n      <td>NaN</td>\n    </tr>\n    <tr>\n      <th>2</th>\n      <td>1003</td>\n      <td>2013-01-04</td>\n      <td>guangzhou</td>\n      <td>110-A</td>\n      <td>54</td>\n      <td>2133.0</td>\n    </tr>\n    <tr>\n      <th>3</th>\n      <td>1004</td>\n      <td>2013-01-05</td>\n      <td>Shenzhen</td>\n      <td>110-C</td>\n      <td>32</td>\n      <td>5433.0</td>\n    </tr>\n    <tr>\n      <th>4</th>\n      <td>1005</td>\n      <td>2013-01-06</td>\n      <td>shanghai</td>\n      <td>210-A</td>\n      <td>34</td>\n      <td>NaN</td>\n    </tr>\n    <tr>\n      <th>5</th>\n      <td>1006</td>\n      <td>2013-01-07</td>\n      <td>BEIJING</td>\n      <td>130-F</td>\n      <td>32</td>\n      <td>4432.0</td>\n    </tr>\n  </tbody>\n</table>\n</div>"
     },
     "execution_count": 6,
     "metadata": {},
     "output_type": "execute_result"
    }
   ],
   "source": [
    "df.fillna(value=0)# fillna()函数用于填充空值\n",
    "df['price'].fillna(df['price'].mean())# 用平均值填充空值\n",
    "df['price'].fillna(df['price'].median())# 用中位数填充空值\n",
    "df.rename(columns={'category': 'category-size'})# rename()函数用于修改列名\n",
    "df.dropna(axis=0,how='any')# dropna()函数用于删除空值\n",
    "df.drop_duplicates()# drop_duplicates()函数用于删除重复值\n",
    "df['city'].map(str.strip)# strip()函数用于去除字符串中的空格"
   ],
   "metadata": {
    "collapsed": false,
    "ExecuteTime": {
     "end_time": "2023-05-09T15:01:19.943742800Z",
     "start_time": "2023-05-09T15:01:19.930299Z"
    }
   }
  },
  {
   "cell_type": "markdown",
   "source": [
    "# 5. 数据预处理"
   ],
   "metadata": {
    "collapsed": false
   }
  },
  {
   "cell_type": "code",
   "execution_count": null,
   "outputs": [],
   "source": [
    "df3=pd.DataFrame({\"id\":[1001,1002,1003,1004,1005,1006,1007,1008],\n",
    "\"gender\":['male','female','male','female','male','female','male','female'],\n",
    "\"pay\":['Y','N','Y','Y','N','Y','N','Y',],\n",
    "\"m-point\":[10,12,20,40,40,40,30,20]})"
   ],
   "metadata": {
    "collapsed": false
   }
  },
  {
   "cell_type": "code",
   "execution_count": null,
   "outputs": [],
   "source": [
    "df_inner=pd.merge(df,df3,how='inner')# merge()函数用于数据表的合并\n",
    "df_left=pd.merge(df,df3,how='left')\n",
    "df_right=pd.merge(df,df3,how='right')\n",
    "df_outer=pd.merge(df,df3,how='outer')\n",
    "# how参数用于指定合并方式，inner表示内连接，outer表示外连接，left表示左连接，right表示右连接"
   ],
   "metadata": {
    "collapsed": false
   }
  },
  {
   "cell_type": "code",
   "execution_count": null,
   "outputs": [],
   "source": [
    "result1 = df3.append(df)# append()函数用于数据表的合并,数据表要相同结构\n",
    "result2 = df3.join(df)# join()函数用于数据表的合并,数据表不要相同结构\n",
    "result3 = pd.concat([df,df3],axis=1,join='inner')# concat()函数用于数据表的合并,数据表要相同结构"
   ],
   "metadata": {
    "collapsed": false
   }
  },
  {
   "cell_type": "markdown",
   "source": [],
   "metadata": {
    "collapsed": false
   }
  }
 ],
 "metadata": {
  "kernelspec": {
   "display_name": "Python 3",
   "language": "python",
   "name": "python3"
  },
  "language_info": {
   "codemirror_mode": {
    "name": "ipython",
    "version": 2
   },
   "file_extension": ".py",
   "mimetype": "text/x-python",
   "name": "python",
   "nbconvert_exporter": "python",
   "pygments_lexer": "ipython2",
   "version": "2.7.6"
  }
 },
 "nbformat": 4,
 "nbformat_minor": 0
}
